{
 "cells": [
  {
   "cell_type": "markdown",
   "id": "e62de3fa",
   "metadata": {},
   "source": [
    "## TRANSFORMERS DATA CREATION"
   ]
  },
  {
   "cell_type": "markdown",
   "id": "89ee32cc",
   "metadata": {},
   "source": [
    "#### DATA CLEANING"
   ]
  },
  {
   "cell_type": "code",
   "execution_count": null,
   "id": "e8c5e89c",
   "metadata": {},
   "outputs": [],
   "source": [
    "import pandas as pd\n",
    "import numpy as np"
   ]
  },
  {
   "cell_type": "code",
   "execution_count": null,
   "id": "1b428da1",
   "metadata": {},
   "outputs": [],
   "source": [
    "input_csv = pd.read_csv('/Volumes/T7/ML/Data/Transformers/English_to_hindi_translation.csv')"
   ]
  },
  {
   "cell_type": "code",
   "execution_count": null,
   "id": "0470f682",
   "metadata": {},
   "outputs": [],
   "source": [
    "input_csv.head()"
   ]
  },
  {
   "cell_type": "code",
   "execution_count": null,
   "id": "b5355ecc",
   "metadata": {},
   "outputs": [],
   "source": [
    "cleaned=input_csv.drop(['source'], axis= 1)"
   ]
  },
  {
   "cell_type": "code",
   "execution_count": null,
   "id": "2821358d",
   "metadata": {},
   "outputs": [],
   "source": [
    "cleaned.head()"
   ]
  },
  {
   "cell_type": "code",
   "execution_count": null,
   "id": "da4a12e2",
   "metadata": {},
   "outputs": [],
   "source": [
    "cleaned = cleaned.dropna()"
   ]
  },
  {
   "cell_type": "code",
   "execution_count": null,
   "id": "8896ccc1",
   "metadata": {},
   "outputs": [],
   "source": [
    "cleaned.isna().sum()"
   ]
  },
  {
   "cell_type": "code",
   "execution_count": null,
   "id": "1a3417ee",
   "metadata": {},
   "outputs": [],
   "source": [
    "cleaned.describe()"
   ]
  },
  {
   "cell_type": "code",
   "execution_count": null,
   "id": "bd561496",
   "metadata": {},
   "outputs": [],
   "source": [
    "unk_token = '<unk>'"
   ]
  },
  {
   "cell_type": "code",
   "execution_count": null,
   "id": "f265d12d",
   "metadata": {},
   "outputs": [],
   "source": [
    "import re\n",
    "\n",
    "def remove_punctuations_and_lower(sentence):\n",
    "    clean_sentence = re.sub(r'[^\\w\\s]','', sentence)\n",
    "    \n",
    "    # \\w -> non word \\s -> non space, so, \\w\\s replaces any special characters other than a non word or a non space.\n",
    "    return clean_sentence.lower()"
   ]
  },
  {
   "cell_type": "code",
   "execution_count": null,
   "id": "7a6507a6",
   "metadata": {},
   "outputs": [],
   "source": [
    "cleaned['english_sentence_no_punctuations'] = cleaned['english_sentence'].apply(remove_punctuations_and_lower)\n",
    "cleaned['hindi_sentence_no_punctuations'] = cleaned['hindi_sentence'].apply(remove_punctuations_and_lower)"
   ]
  },
  {
   "cell_type": "code",
   "execution_count": null,
   "id": "8119fd13",
   "metadata": {},
   "outputs": [],
   "source": [
    "cleaned.head()"
   ]
  },
  {
   "cell_type": "code",
   "execution_count": null,
   "id": "c7d674d0",
   "metadata": {},
   "outputs": [],
   "source": [
    "from string import digits\n",
    "remove_digits = str.maketrans('', '', digits) #digits to be removed\n",
    "\n",
    "def remove_digits_from_english(sentence): \n",
    "     return sentence.translate(remove_digits)\n",
    "    \n",
    "def remove_digits_from_hindi(sentence): \n",
    "     return re.sub(\"[२३०८१५७९४६]\", \"\", sentence)"
   ]
  },
  {
   "cell_type": "code",
   "execution_count": null,
   "id": "33962a21",
   "metadata": {},
   "outputs": [],
   "source": [
    "cleaned['english_cleaned'] = cleaned['english_sentence_no_punctuations'].apply(remove_digits_from_english)\n",
    "cleaned['hindi_cleaned'] = cleaned['hindi_sentence_no_punctuations'].apply(remove_digits_from_hindi)"
   ]
  },
  {
   "cell_type": "code",
   "execution_count": null,
   "id": "c2fe1447",
   "metadata": {},
   "outputs": [],
   "source": [
    "cleaned = cleaned.drop(['english_sentence_no_punctuations','hindi_sentence_no_punctuations'], axis=1)"
   ]
  },
  {
   "cell_type": "code",
   "execution_count": null,
   "id": "7f4f6630",
   "metadata": {},
   "outputs": [],
   "source": [
    "cleaned.head()"
   ]
  },
  {
   "cell_type": "code",
   "execution_count": null,
   "id": "bc029319",
   "metadata": {},
   "outputs": [],
   "source": [
    "cleaned.tail()"
   ]
  },
  {
   "cell_type": "markdown",
   "id": "ab40041f",
   "metadata": {},
   "source": [
    "#### Adding Start And End Token"
   ]
  },
  {
   "cell_type": "code",
   "execution_count": null,
   "id": "b5c49e59",
   "metadata": {},
   "outputs": [],
   "source": [
    "def Add_Token(sentence):\n",
    "    sentence = re.sub(r'\\s+', ' ', sentence)\n",
    "    return f\"<START> {sentence} <END>\""
   ]
  },
  {
   "cell_type": "code",
   "execution_count": null,
   "id": "48db1ac4",
   "metadata": {},
   "outputs": [],
   "source": [
    "cleaned['english_cleaned']= cleaned['english_cleaned'].apply(Add_Token)\n",
    "cleaned['hindi_cleaned']= cleaned['hindi_cleaned'].apply(Add_Token)"
   ]
  },
  {
   "cell_type": "code",
   "execution_count": null,
   "id": "e57c2b06",
   "metadata": {},
   "outputs": [],
   "source": [
    "cleaned.head()"
   ]
  },
  {
   "cell_type": "markdown",
   "id": "47bd3130",
   "metadata": {},
   "source": [
    "#### DICTIONARY FORMATION"
   ]
  },
  {
   "cell_type": "code",
   "execution_count": null,
   "id": "ef5af940",
   "metadata": {},
   "outputs": [],
   "source": [
    "HINDI_VOCAB = set()\n",
    "ENGLISH_VOCAB = set()"
   ]
  },
  {
   "cell_type": "code",
   "execution_count": null,
   "id": "0044924a",
   "metadata": {},
   "outputs": [],
   "source": [
    "def tokenize(sentence):\n",
    "    temporary_set = set()\n",
    "    \n",
    "    for word in sentence.strip().split(' '):\n",
    "        temporary_set.add(word)\n",
    "    return temporary_set"
   ]
  },
  {
   "cell_type": "code",
   "execution_count": null,
   "id": "50f428de",
   "metadata": {},
   "outputs": [],
   "source": [
    "def create_vocab(sentences, dictionary):\n",
    "    i=0\n",
    "    for sentence in sentences:\n",
    "        if i%10000==0:\n",
    "            print(f\"{i} done\")\n",
    "        temp_set= tokenize(sentence)\n",
    "        dictionary=dictionary.union(temp_set)\n",
    "        i+=1\n",
    "        \n",
    "    return dictionary"
   ]
  },
  {
   "cell_type": "code",
   "execution_count": null,
   "id": "393947b6",
   "metadata": {},
   "outputs": [],
   "source": [
    "ENGLISH_VOCAB = create_vocab(cleaned['english_cleaned'].tolist(),ENGLISH_VOCAB)\n",
    "print(\"English done\")\n",
    "HINDI_VOCAB = create_vocab(cleaned['hindi_cleaned'].tolist(),HINDI_VOCAB)"
   ]
  },
  {
   "cell_type": "code",
   "execution_count": null,
   "id": "2172d33a",
   "metadata": {},
   "outputs": [],
   "source": [
    "len(ENGLISH_VOCAB)\n",
    "len(HINDI_VOCAB)"
   ]
  },
  {
   "cell_type": "code",
   "execution_count": null,
   "id": "a5a5279c",
   "metadata": {},
   "outputs": [],
   "source": [
    "ENGLISH_VOCAB.add(\"<START>\")\n",
    "ENGLISH_VOCAB.add(\"<END>\")\n",
    "HINDI_VOCAB.add(\"<START>\")\n",
    "HINDI_VOCAB.add(\"<END>\")"
   ]
  },
  {
   "cell_type": "markdown",
   "id": "28469430",
   "metadata": {},
   "source": [
    "#### Detecting Max Length for input and output sentences"
   ]
  },
  {
   "cell_type": "code",
   "execution_count": null,
   "id": "8221df88",
   "metadata": {},
   "outputs": [],
   "source": [
    "ENGLISH_MAX_LENGTH=0\n",
    "HINDI_MAX_LENGTH=0"
   ]
  },
  {
   "cell_type": "code",
   "execution_count": null,
   "id": "b2095d83",
   "metadata": {},
   "outputs": [],
   "source": [
    "def get_max_length_in_words(sentences):\n",
    "    length_of_sentences = [len(sentence.split(' ')) for sentence in sentences]\n",
    "    return np.max(np.array(length_of_sentences))"
   ]
  },
  {
   "cell_type": "code",
   "execution_count": null,
   "id": "b2092bbc",
   "metadata": {},
   "outputs": [],
   "source": [
    "ENGLISH_MAX_LENGTH = get_max_length_in_words(cleaned['english_cleaned'].tolist())\n",
    "HINDI_MAX_LENGTH = get_max_length_in_words(cleaned['hindi_cleaned'].tolist())"
   ]
  },
  {
   "cell_type": "code",
   "execution_count": null,
   "id": "ffd30caa",
   "metadata": {},
   "outputs": [],
   "source": [
    "ENGLISH_MAX_LENGTH"
   ]
  },
  {
   "cell_type": "code",
   "execution_count": null,
   "id": "461a0045",
   "metadata": {},
   "outputs": [],
   "source": [
    "HINDI_MAX_LENGTH"
   ]
  },
  {
   "cell_type": "code",
   "execution_count": null,
   "id": "ba0e39c4",
   "metadata": {},
   "outputs": [],
   "source": [
    "ENGLISH_AVG_LENGTH=0\n",
    "HINDI_AVG_LENGTH=0"
   ]
  },
  {
   "cell_type": "code",
   "execution_count": null,
   "id": "d908a215",
   "metadata": {},
   "outputs": [],
   "source": [
    "def get_avg_length_in_words(sentences):\n",
    "    length_of_sentences = [len(sentence.split(' ')) for sentence in sentences]\n",
    "    return np.mean(np.array(length_of_sentences))"
   ]
  },
  {
   "cell_type": "code",
   "execution_count": null,
   "id": "06714932",
   "metadata": {},
   "outputs": [],
   "source": [
    "ENGLISH_AVG_LENGTH = get_avg_length_in_words(cleaned['english_cleaned'].tolist())\n",
    "HINDI_AVG_LENGTH = get_avg_length_in_words(cleaned['hindi_cleaned'].tolist())"
   ]
  },
  {
   "cell_type": "code",
   "execution_count": null,
   "id": "60e46715",
   "metadata": {},
   "outputs": [],
   "source": [
    "ENGLISH_AVG_LENGTH"
   ]
  },
  {
   "cell_type": "code",
   "execution_count": null,
   "id": "f0a86cbd",
   "metadata": {},
   "outputs": [],
   "source": [
    "HINDI_AVG_LENGTH"
   ]
  },
  {
   "cell_type": "code",
   "execution_count": null,
   "id": "143745ff",
   "metadata": {},
   "outputs": [],
   "source": [
    "INPUT_LENGTH = 30\n",
    "OUTPUT_LENGTH = 30"
   ]
  },
  {
   "cell_type": "code",
   "execution_count": null,
   "id": "a90f8a65",
   "metadata": {},
   "outputs": [],
   "source": [
    "def limit_number_of_words_in_the_sentence(sentence):\n",
    "    words = sentence.split(' ')\n",
    "    words_capped = words[:INPUT_LENGTH-1]\n",
    "    new_sentence=\"\"\n",
    "    \n",
    "    for word in words_capped:\n",
    "        new_sentence+=f\" {word}\"\n",
    "    \n",
    "    return new_sentence"
   ]
  },
  {
   "cell_type": "code",
   "execution_count": null,
   "id": "ec9e50e4",
   "metadata": {},
   "outputs": [],
   "source": [
    "cleaned['english_cleaned'] = cleaned['english_cleaned'].apply(limit_number_of_words_in_the_sentence)\n",
    "cleaned['hindi_cleaned'] = cleaned['hindi_cleaned'].apply(limit_number_of_words_in_the_sentence)"
   ]
  },
  {
   "cell_type": "code",
   "execution_count": null,
   "id": "1ae73117",
   "metadata": {},
   "outputs": [],
   "source": [
    "cleaned.head()"
   ]
  },
  {
   "cell_type": "markdown",
   "id": "0307386d",
   "metadata": {},
   "source": [
    "#### Creating dictionary indexes"
   ]
  },
  {
   "cell_type": "code",
   "execution_count": null,
   "id": "aff38dbd",
   "metadata": {},
   "outputs": [],
   "source": [
    "ENGLISH_VOCAB_LIST = sorted(list(ENGLISH_VOCAB))\n",
    "HINDI_VOCAB_LIST = sorted(list(HINDI_VOCAB))"
   ]
  },
  {
   "cell_type": "code",
   "execution_count": null,
   "id": "35a93b1a",
   "metadata": {},
   "outputs": [],
   "source": [
    "english_dictionary_index = dict([(word, i+1) for i, word in enumerate(ENGLISH_VOCAB_LIST)])\n",
    "hindi_dictionary_index = dict([(word, i+1) for i, word in enumerate(HINDI_VOCAB_LIST)])"
   ]
  },
  {
   "cell_type": "code",
   "execution_count": null,
   "id": "4a959037",
   "metadata": {},
   "outputs": [],
   "source": [
    "reverse_english_dictionary_index = dict((i, word) for word, i in english_dictionary_index.items())\n",
    "reverse_hindi_dictionary_index = dict((i, word) for word, i in hindi_dictionary_index.items())"
   ]
  },
  {
   "cell_type": "markdown",
   "id": "33cd3e17",
   "metadata": {},
   "source": [
    "#### Encoding the sentences"
   ]
  },
  {
   "cell_type": "code",
   "execution_count": null,
   "id": "7b403150",
   "metadata": {},
   "outputs": [],
   "source": [
    "def encode(sentence, index_dictionary):\n",
    "    \n",
    "    sentence_tokens = []\n",
    "    \n",
    "    for index in range(len(sentence.split(' '))):\n",
    "        sentence_tokens.append(index_dictionary[sentence.split(' ')[index]])\n",
    "        \n",
    "    return sentence_tokens"
   ]
  },
  {
   "cell_type": "code",
   "execution_count": null,
   "id": "26b8c8ea",
   "metadata": {},
   "outputs": [],
   "source": [
    "cleaned['index_list_english'] = cleaned['english_cleaned'].apply(encode,index_dictionary=english_dictionary_index)"
   ]
  },
  {
   "cell_type": "code",
   "execution_count": null,
   "id": "1df5c13e",
   "metadata": {},
   "outputs": [],
   "source": [
    "cleaned['index_list_hindi'] = cleaned['hindi_cleaned'].apply(encode,index_dictionary=hindi_dictionary_index)"
   ]
  },
  {
   "cell_type": "markdown",
   "id": "3444e59a",
   "metadata": {},
   "source": [
    "#### Adding 0 padding to have proper length"
   ]
  },
  {
   "cell_type": "code",
   "execution_count": null,
   "id": "9f1f3714",
   "metadata": {},
   "outputs": [],
   "source": [
    "def pad(index_list):\n",
    "    pad_seq_size = INPUT_LENGTH - len(index_list)\n",
    "    zero_arr = np.zeros(pad_seq_size)\n",
    "    padded_arr = np.concatenate([np.array(index_list),zero_arr])\n",
    "    \n",
    "    return padded_arr"
   ]
  },
  {
   "cell_type": "code",
   "execution_count": null,
   "id": "32463c6b",
   "metadata": {},
   "outputs": [],
   "source": [
    "cleaned['index_list_english'] = cleaned['index_list_english'].apply(pad)\n",
    "cleaned['index_list_hindi'] = cleaned['index_list_hindi'].apply(pad)"
   ]
  },
  {
   "cell_type": "code",
   "execution_count": null,
   "id": "c6e6cc99",
   "metadata": {},
   "outputs": [],
   "source": [
    "cleaned.head()"
   ]
  },
  {
   "cell_type": "markdown",
   "id": "42275635",
   "metadata": {},
   "source": [
    "#### Creating Test Train Split"
   ]
  },
  {
   "cell_type": "code",
   "execution_count": null,
   "id": "6220cede",
   "metadata": {},
   "outputs": [],
   "source": [
    "from sklearn.model_selection import train_test_split"
   ]
  },
  {
   "cell_type": "code",
   "execution_count": null,
   "id": "657c3d6d",
   "metadata": {},
   "outputs": [],
   "source": [
    "x_train, x_test, y_train, y_test = train_test_split(cleaned['index_list_english'], cleaned['index_list_hindi'], test_size = 0.3,random_state=42)"
   ]
  },
  {
   "cell_type": "markdown",
   "id": "c3b5b02f",
   "metadata": {},
   "source": [
    "#### Data Storing"
   ]
  },
  {
   "cell_type": "code",
   "execution_count": null,
   "id": "af8935dc",
   "metadata": {},
   "outputs": [],
   "source": [
    "import pickle"
   ]
  },
  {
   "cell_type": "code",
   "execution_count": null,
   "id": "d5c826bb",
   "metadata": {},
   "outputs": [],
   "source": [
    "with open(\"/Volumes/T7/ML/Data/Transformers/utilities/X_train.pkl\", 'wb') as file:\n",
    "    pickle.dump(x_train,file)"
   ]
  },
  {
   "cell_type": "code",
   "execution_count": null,
   "id": "85ee2f4f",
   "metadata": {},
   "outputs": [],
   "source": [
    "with open(\"/Volumes/T7/ML/Data/Transformers/utilities/Y_train.pkl\", 'wb') as file:\n",
    "    pickle.dump(y_train,file)"
   ]
  },
  {
   "cell_type": "code",
   "execution_count": null,
   "id": "27ba0599",
   "metadata": {},
   "outputs": [],
   "source": [
    "with open(\"/Volumes/T7/ML/Data/Transformers/utilities/X_test.pkl\", 'wb') as file:\n",
    "    pickle.dump(x_test,file)"
   ]
  },
  {
   "cell_type": "code",
   "execution_count": null,
   "id": "e954b083",
   "metadata": {},
   "outputs": [],
   "source": [
    "with open(\"/Volumes/T7/ML/Data/Transformers/utilities/Y_test.pkl\", 'wb') as file:\n",
    "    pickle.dump(y_test,file)"
   ]
  },
  {
   "cell_type": "markdown",
   "id": "93558d42",
   "metadata": {},
   "source": [
    "#### Storing dictionaries"
   ]
  },
  {
   "cell_type": "code",
   "execution_count": null,
   "id": "ed308172",
   "metadata": {},
   "outputs": [],
   "source": [
    "with open(\"/Volumes/T7/ML/Data/Transformers/utilities/English_Dict.pkl\", 'wb') as file:\n",
    "    pickle.dump(english_dictionary_index,file)"
   ]
  },
  {
   "cell_type": "code",
   "execution_count": null,
   "id": "687f9fc5",
   "metadata": {},
   "outputs": [],
   "source": [
    "with open(\"/Volumes/T7/ML/Data/Transformers/utilities/Hindi_Dict.pkl\", 'wb') as file:\n",
    "    pickle.dump(hindi_dictionary_index,file)"
   ]
  },
  {
   "cell_type": "code",
   "execution_count": null,
   "id": "4aca76a3",
   "metadata": {},
   "outputs": [],
   "source": [
    "with open(\"/Volumes/T7/ML/Data/Transformers/utilities/Reverse_English_Dict.pkl\", 'wb') as file:\n",
    "    pickle.dump(reverse_english_dictionary_index,file)"
   ]
  },
  {
   "cell_type": "code",
   "execution_count": null,
   "id": "4aa69ecb",
   "metadata": {},
   "outputs": [],
   "source": [
    "with open(\"/Volumes/T7/ML/Data/Transformers/utilities/Reverse_Hindi_Dict.pkl\", 'wb') as file:\n",
    "    pickle.dump(reverse_hindi_dictionary_index,file)"
   ]
  },
  {
   "cell_type": "code",
   "execution_count": null,
   "id": "7d1d0b76",
   "metadata": {},
   "outputs": [],
   "source": []
  }
 ],
 "metadata": {
  "kernelspec": {
   "display_name": "Python 3 (ipykernel)",
   "language": "python",
   "name": "python3"
  },
  "language_info": {
   "codemirror_mode": {
    "name": "ipython",
    "version": 3
   },
   "file_extension": ".py",
   "mimetype": "text/x-python",
   "name": "python",
   "nbconvert_exporter": "python",
   "pygments_lexer": "ipython3",
   "version": "3.10.11"
  }
 },
 "nbformat": 4,
 "nbformat_minor": 5
}
